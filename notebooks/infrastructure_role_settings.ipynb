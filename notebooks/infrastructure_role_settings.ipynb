{
 "cells": [
  {
   "cell_type": "markdown",
   "metadata": {},
   "source": [
    "# Compass.UOL - Sprint 4 & 5\n",
    "## Equipe 3 - José Pedro, Pedro Montenegro, Natália Cardoso, Renan Mazzilli\n"
   ]
  },
  {
   "cell_type": "markdown",
   "metadata": {},
   "source": [
    "## Dataset: [hotel_reservations](https://www.kaggle.com/datasets/ahsan81/hotel-reservations-classification-dataset)"
   ]
  },
  {
   "cell_type": "markdown",
   "metadata": {},
   "source": [
    "## Configuração de infraestrutura necessária e roles de acesso no AWS"
   ]
  },
  {
   "cell_type": "markdown",
   "metadata": {},
   "source": [
    "### Function de criação da infraestrutura no DynamoDB, S3 Bucket e IAM Role Access Permissions para o SageMaker"
   ]
  },
  {
   "cell_type": "markdown",
   "metadata": {},
   "source": [
    "### Imports e instalações necessárias"
   ]
  },
  {
   "cell_type": "code",
   "execution_count": 1,
   "metadata": {},
   "outputs": [
    {
     "name": "stdout",
     "output_type": "stream",
     "text": [
      "Requirement already satisfied: pandas in c:\\users\\peter\\appdata\\local\\programs\\python\\python312\\lib\\site-packages (2.1.2)\n",
      "Requirement already satisfied: boto3 in c:\\users\\peter\\appdata\\local\\programs\\python\\python312\\lib\\site-packages (1.34.109)\n",
      "Requirement already satisfied: joblib in c:\\users\\peter\\appdata\\local\\programs\\python\\python312\\lib\\site-packages (1.3.2)\n",
      "Requirement already satisfied: scikit-learn in c:\\users\\peter\\appdata\\local\\programs\\python\\python312\\lib\\site-packages (1.3.2)\n",
      "Requirement already satisfied: sagemaker in c:\\users\\peter\\appdata\\local\\programs\\python\\python312\\lib\\site-packages (2.221.0)\n",
      "Requirement already satisfied: seaborn in c:\\users\\peter\\appdata\\local\\programs\\python\\python312\\lib\\site-packages (0.13.2)\n",
      "Requirement already satisfied: numpy<2,>=1.26.0 in c:\\users\\peter\\appdata\\local\\programs\\python\\python312\\lib\\site-packages (from pandas) (1.26.1)\n",
      "Requirement already satisfied: python-dateutil>=2.8.2 in c:\\users\\peter\\appdata\\roaming\\python\\python312\\site-packages (from pandas) (2.8.2)\n",
      "Requirement already satisfied: pytz>=2020.1 in c:\\users\\peter\\appdata\\local\\programs\\python\\python312\\lib\\site-packages (from pandas) (2023.3.post1)\n",
      "Requirement already satisfied: tzdata>=2022.1 in c:\\users\\peter\\appdata\\local\\programs\\python\\python312\\lib\\site-packages (from pandas) (2023.3)\n",
      "Requirement already satisfied: botocore<1.35.0,>=1.34.109 in c:\\users\\peter\\appdata\\local\\programs\\python\\python312\\lib\\site-packages (from boto3) (1.34.109)\n",
      "Requirement already satisfied: jmespath<2.0.0,>=0.7.1 in c:\\users\\peter\\appdata\\local\\programs\\python\\python312\\lib\\site-packages (from boto3) (1.0.1)\n",
      "Requirement already satisfied: s3transfer<0.11.0,>=0.10.0 in c:\\users\\peter\\appdata\\local\\programs\\python\\python312\\lib\\site-packages (from boto3) (0.10.1)\n",
      "Requirement already satisfied: scipy>=1.5.0 in c:\\users\\peter\\appdata\\local\\programs\\python\\python312\\lib\\site-packages (from scikit-learn) (1.11.3)\n",
      "Requirement already satisfied: threadpoolctl>=2.0.0 in c:\\users\\peter\\appdata\\local\\programs\\python\\python312\\lib\\site-packages (from scikit-learn) (3.2.0)\n",
      "Requirement already satisfied: attrs<24,>=23.1.0 in c:\\users\\peter\\appdata\\local\\programs\\python\\python312\\lib\\site-packages (from sagemaker) (23.1.0)\n",
      "Requirement already satisfied: cloudpickle==2.2.1 in c:\\users\\peter\\appdata\\local\\programs\\python\\python312\\lib\\site-packages (from sagemaker) (2.2.1)\n",
      "Requirement already satisfied: google-pasta in c:\\users\\peter\\appdata\\local\\programs\\python\\python312\\lib\\site-packages (from sagemaker) (0.2.0)\n",
      "Requirement already satisfied: protobuf<5.0,>=3.12 in c:\\users\\peter\\appdata\\local\\programs\\python\\python312\\lib\\site-packages (from sagemaker) (4.25.3)\n",
      "Requirement already satisfied: smdebug-rulesconfig==1.0.1 in c:\\users\\peter\\appdata\\local\\programs\\python\\python312\\lib\\site-packages (from sagemaker) (1.0.1)\n",
      "Requirement already satisfied: importlib-metadata<7.0,>=1.4.0 in c:\\users\\peter\\appdata\\local\\programs\\python\\python312\\lib\\site-packages (from sagemaker) (6.11.0)\n",
      "Requirement already satisfied: packaging>=20.0 in c:\\users\\peter\\appdata\\roaming\\python\\python312\\site-packages (from sagemaker) (23.2)\n",
      "Requirement already satisfied: pathos in c:\\users\\peter\\appdata\\local\\programs\\python\\python312\\lib\\site-packages (from sagemaker) (0.3.2)\n",
      "Requirement already satisfied: schema in c:\\users\\peter\\appdata\\local\\programs\\python\\python312\\lib\\site-packages (from sagemaker) (0.7.7)\n",
      "Requirement already satisfied: PyYAML~=6.0 in c:\\users\\peter\\appdata\\local\\programs\\python\\python312\\lib\\site-packages (from sagemaker) (6.0.1)\n",
      "Requirement already satisfied: jsonschema in c:\\users\\peter\\appdata\\local\\programs\\python\\python312\\lib\\site-packages (from sagemaker) (4.19.2)\n",
      "Requirement already satisfied: platformdirs in c:\\users\\peter\\appdata\\roaming\\python\\python312\\site-packages (from sagemaker) (3.11.0)\n",
      "Requirement already satisfied: tblib<4,>=1.7.0 in c:\\users\\peter\\appdata\\local\\programs\\python\\python312\\lib\\site-packages (from sagemaker) (3.0.0)\n",
      "Requirement already satisfied: urllib3<3.0.0,>=1.26.8 in c:\\users\\peter\\appdata\\local\\programs\\python\\python312\\lib\\site-packages (from sagemaker) (2.0.7)\n",
      "Requirement already satisfied: requests in c:\\users\\peter\\appdata\\local\\programs\\python\\python312\\lib\\site-packages (from sagemaker) (2.31.0)\n",
      "Requirement already satisfied: docker in c:\\users\\peter\\appdata\\local\\programs\\python\\python312\\lib\\site-packages (from sagemaker) (7.0.0)\n",
      "Requirement already satisfied: tqdm in c:\\users\\peter\\appdata\\local\\programs\\python\\python312\\lib\\site-packages (from sagemaker) (4.66.1)\n",
      "Requirement already satisfied: psutil in c:\\users\\peter\\appdata\\roaming\\python\\python312\\site-packages (from sagemaker) (5.9.6)\n",
      "Requirement already satisfied: matplotlib!=3.6.1,>=3.4 in c:\\users\\peter\\appdata\\local\\programs\\python\\python312\\lib\\site-packages (from seaborn) (3.8.0)\n",
      "Requirement already satisfied: zipp>=0.5 in c:\\users\\peter\\appdata\\local\\programs\\python\\python312\\lib\\site-packages (from importlib-metadata<7.0,>=1.4.0->sagemaker) (3.18.2)\n",
      "Requirement already satisfied: contourpy>=1.0.1 in c:\\users\\peter\\appdata\\local\\programs\\python\\python312\\lib\\site-packages (from matplotlib!=3.6.1,>=3.4->seaborn) (1.1.1)\n",
      "Requirement already satisfied: cycler>=0.10 in c:\\users\\peter\\appdata\\local\\programs\\python\\python312\\lib\\site-packages (from matplotlib!=3.6.1,>=3.4->seaborn) (0.12.1)\n",
      "Requirement already satisfied: fonttools>=4.22.0 in c:\\users\\peter\\appdata\\local\\programs\\python\\python312\\lib\\site-packages (from matplotlib!=3.6.1,>=3.4->seaborn) (4.43.1)\n",
      "Requirement already satisfied: kiwisolver>=1.0.1 in c:\\users\\peter\\appdata\\local\\programs\\python\\python312\\lib\\site-packages (from matplotlib!=3.6.1,>=3.4->seaborn) (1.4.5)\n",
      "Requirement already satisfied: pillow>=6.2.0 in c:\\users\\peter\\appdata\\local\\programs\\python\\python312\\lib\\site-packages (from matplotlib!=3.6.1,>=3.4->seaborn) (10.1.0)\n",
      "Requirement already satisfied: pyparsing>=2.3.1 in c:\\users\\peter\\appdata\\local\\programs\\python\\python312\\lib\\site-packages (from matplotlib!=3.6.1,>=3.4->seaborn) (3.1.1)\n",
      "Requirement already satisfied: six>=1.5 in c:\\users\\peter\\appdata\\roaming\\python\\python312\\site-packages (from python-dateutil>=2.8.2->pandas) (1.16.0)\n",
      "Requirement already satisfied: pywin32>=304 in c:\\users\\peter\\appdata\\roaming\\python\\python312\\site-packages (from docker->sagemaker) (306)\n",
      "Requirement already satisfied: charset-normalizer<4,>=2 in c:\\users\\peter\\appdata\\local\\programs\\python\\python312\\lib\\site-packages (from requests->sagemaker) (3.3.2)\n",
      "Requirement already satisfied: idna<4,>=2.5 in c:\\users\\peter\\appdata\\local\\programs\\python\\python312\\lib\\site-packages (from requests->sagemaker) (3.4)\n",
      "Requirement already satisfied: certifi>=2017.4.17 in c:\\users\\peter\\appdata\\local\\programs\\python\\python312\\lib\\site-packages (from requests->sagemaker) (2023.7.22)\n",
      "Requirement already satisfied: jsonschema-specifications>=2023.03.6 in c:\\users\\peter\\appdata\\local\\programs\\python\\python312\\lib\\site-packages (from jsonschema->sagemaker) (2023.7.1)\n",
      "Requirement already satisfied: referencing>=0.28.4 in c:\\users\\peter\\appdata\\local\\programs\\python\\python312\\lib\\site-packages (from jsonschema->sagemaker) (0.30.2)\n",
      "Requirement already satisfied: rpds-py>=0.7.1 in c:\\users\\peter\\appdata\\local\\programs\\python\\python312\\lib\\site-packages (from jsonschema->sagemaker) (0.10.6)\n",
      "Requirement already satisfied: ppft>=1.7.6.8 in c:\\users\\peter\\appdata\\local\\programs\\python\\python312\\lib\\site-packages (from pathos->sagemaker) (1.7.6.8)\n",
      "Requirement already satisfied: dill>=0.3.8 in c:\\users\\peter\\appdata\\local\\programs\\python\\python312\\lib\\site-packages (from pathos->sagemaker) (0.3.8)\n",
      "Requirement already satisfied: pox>=0.3.4 in c:\\users\\peter\\appdata\\local\\programs\\python\\python312\\lib\\site-packages (from pathos->sagemaker) (0.3.4)\n",
      "Requirement already satisfied: multiprocess>=0.70.16 in c:\\users\\peter\\appdata\\local\\programs\\python\\python312\\lib\\site-packages (from pathos->sagemaker) (0.70.16)\n",
      "Requirement already satisfied: colorama in c:\\users\\peter\\appdata\\roaming\\python\\python312\\site-packages (from tqdm->sagemaker) (0.4.6)\n",
      "Note: you may need to restart the kernel to use updated packages.\n"
     ]
    }
   ],
   "source": [
    "# Instalar as bibliotecas necessárias para o projeto\n",
    "%pip install pandas boto3 joblib scikit-learn sagemaker seaborn\n",
    "\n",
    "# Importar as bibliotecas necessárias \n",
    "import json\n",
    "import boto3\n",
    "from botocore.exceptions import ClientError"
   ]
  },
  {
   "cell_type": "markdown",
   "metadata": {},
   "source": [
    "### Configurações gerais do projeto e variáveis globais"
   ]
  },
  {
   "cell_type": "code",
   "execution_count": 2,
   "metadata": {},
   "outputs": [],
   "source": [
    "# Carregar configurações do arquivo JSON\n",
    "with open('config.json', 'r') as config_file:\n",
    "    config = json.load(config_file)\n",
    "\n",
    "# Atribuir as variáveis de configuração\n",
    "bucket_name = config['bucket_name']\n",
    "table_name = config['table_name']\n",
    "model_metrics_table = config['model_metrics_table']\n",
    "role_name = config['role_name']\n",
    "dataset_path = config['dataset_path']\n",
    "processed_dataset_path = config['processed_dataset_path']\n",
    "model_path = config['model_path']\n",
    "profile_name = config['profile_name']\n",
    "aws_region = config['aws_region']\n",
    "\n",
    "# Inicialização da sessão AWS\n",
    "session = boto3.Session(profile_name=profile_name, region_name=aws_region)\n",
    "s3_client = session.client('s3')\n",
    "dynamodb_client = session.client('dynamodb')\n",
    "iam_client = session.client('iam')"
   ]
  },
  {
   "cell_type": "code",
   "execution_count": 3,
   "metadata": {},
   "outputs": [
    {
     "name": "stdout",
     "output_type": "stream",
     "text": [
      "Table HotelReservations-test3 already exists.\n",
      "Bucket hotel-reservations-bucket-test3 created successfully.\n",
      "Role AmazonSageMaker-ExecutionRole already exists.\n"
     ]
    }
   ],
   "source": [
    "# Função para criar a tabela DynamoDB\n",
    "class AWSResourceManager:\n",
    "    # Inicialização da classe com o nome do perfil\n",
    "    def __init__(self, profile_name):\n",
    "        self.profile_name = profile_name\n",
    "        self.session = boto3.Session(profile_name=self.profile_name, region_name='us-east-1')\n",
    "        self.dynamodb_client = self.session.client('dynamodb')\n",
    "        self.s3_client = self.session.client('s3')\n",
    "        self.iam_client = self.session.client('iam')\n",
    "    # Função para criar a tabela DynamoDB com o nome da tabela\n",
    "    def create_dynamodb_table(self, table_name):\n",
    "        try:\n",
    "            # Criação da tabela com a chave primária Booking_ID\n",
    "            self.dynamodb_client.create_table(\n",
    "                TableName=table_name,\n",
    "                KeySchema=[\n",
    "                    {\n",
    "                        'AttributeName': 'Booking_ID',\n",
    "                        'KeyType': 'HASH'\n",
    "                    }\n",
    "                ],\n",
    "                AttributeDefinitions=[\n",
    "                    {\n",
    "                        'AttributeName': 'Booking_ID',\n",
    "                        'AttributeType': 'S'\n",
    "                    }\n",
    "                ],\n",
    "                ProvisionedThroughput={\n",
    "                    'ReadCapacityUnits': 5,\n",
    "                    'WriteCapacityUnits': 5\n",
    "                }\n",
    "            )\n",
    "            print(f'Table {table_name} created successfully.')\n",
    "        # Tratamento de exceções - Tabela já existente\n",
    "        except self.dynamodb_client.exceptions.ResourceInUseException:\n",
    "            print(f'Table {table_name} already exists.')\n",
    "        # Tratamento de exceções - Erro ao criar a tabela\n",
    "        except ClientError as e:\n",
    "            print(f'Error creating table: {e}')\n",
    "\n",
    "    # Função para criar o bucket S3 com o nome do bucket\n",
    "    def create_s3_bucket(self, bucket_name):\n",
    "        # Criação do bucket com o nome do bucket\n",
    "        try:\n",
    "            self.s3_client.create_bucket(Bucket=bucket_name)\n",
    "            print(f'Bucket {bucket_name} created successfully.')\n",
    "        # Tratamento de exceções - Bucket já existente\n",
    "        except self.s3_client.exceptions.BucketAlreadyExists:\n",
    "            print(f'Bucket {bucket_name} already exists.')\n",
    "        # Tratamento de exceções - Erro ao criar o bucket\n",
    "        except ClientError as e:\n",
    "            print(f'Error creating bucket: {e}')\n",
    "            \n",
    "    # Função para criar a função IAM com o nome da função\n",
    "    def create_iam_role(self, role_name):\n",
    "        assume_role_policy_document = {\n",
    "            \"Version\": \"2012-10-17\",\n",
    "            \"Statement\": [\n",
    "                {\n",
    "                    \"Effect\": \"Allow\",\n",
    "                    \"Principal\": {\n",
    "                        \"Service\": \"sagemaker.amazonaws.com\"\n",
    "                    },\n",
    "                    \"Action\": \"sts:AssumeRole\"\n",
    "                }\n",
    "            ]\n",
    "        }\n",
    "        try:\n",
    "            # Criação da função com o nome da função e a política de confiança\n",
    "            self.iam_client.create_role(\n",
    "                RoleName=role_name,\n",
    "                AssumeRolePolicyDocument=json.dumps(assume_role_policy_document)\n",
    "            )\n",
    "            # Anexando políticas à função criada para acesso ao S3, DynamoDB e SageMaker\n",
    "            self.iam_client.attach_role_policy(\n",
    "                RoleName=role_name,\n",
    "                PolicyArn='arn:aws:iam::aws:policy/AmazonS3FullAccess'\n",
    "            )\n",
    "            self.iam_client.attach_role_policy(\n",
    "                RoleName=role_name,\n",
    "                PolicyArn='arn:aws:iam::aws:policy/AmazonDynamoDBFullAccess'\n",
    "            )\n",
    "            self.iam_client.attach_role_policy(\n",
    "                RoleName=role_name,\n",
    "                PolicyArn='arn:aws:iam::aws:policy/AmazonSageMakerFullAccess'\n",
    "            )\n",
    "            self.iam_client.attach_role_policy(\n",
    "                RoleName=role_name,\n",
    "                PolicyArn='arn:aws:iam::aws:policy/AWSLambda_FullAccess'\n",
    "            )\n",
    "            print(f'Role {role_name} created successfully.')\n",
    "        # Tratamento de exceções - Função já existente\n",
    "        except self.iam_client.exceptions.EntityAlreadyExistsException:\n",
    "            print(f'Role {role_name} already exists.')\n",
    "        # Tratamento de exceções - Erro ao criar a função\n",
    "        except ClientError as e:\n",
    "            print(f'Error creating role: {e}')\n",
    "\n",
    "# Criar e configurar os recursos AWS\n",
    "aws_manager = AWSResourceManager(profile_name)\n",
    "aws_manager.create_dynamodb_table(table_name)\n",
    "aws_manager.create_s3_bucket(bucket_name)\n",
    "aws_manager.create_iam_role(role_name)"
   ]
  }
 ],
 "metadata": {
  "kernelspec": {
   "display_name": "Python 3",
   "language": "python",
   "name": "python3"
  },
  "language_info": {
   "codemirror_mode": {
    "name": "ipython",
    "version": 3
   },
   "file_extension": ".py",
   "mimetype": "text/x-python",
   "name": "python",
   "nbconvert_exporter": "python",
   "pygments_lexer": "ipython3",
   "version": "3.12.1"
  }
 },
 "nbformat": 4,
 "nbformat_minor": 2
}
