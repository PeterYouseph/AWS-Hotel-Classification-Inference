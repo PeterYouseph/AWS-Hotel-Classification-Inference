{
  "cells": [
    {
      "cell_type": "markdown",
      "metadata": {
        "id": "Z5yDyZ4CJLJN"
      },
      "source": [
        "# Compass.UOL - Sprint 4 & 5\n",
        "## Equipe 3 - José Pedro, Pedro Montenegro, Natália Cardoso, Renan Mazzilli\n"
      ]
    },
    {
      "cell_type": "markdown",
      "metadata": {
        "id": "GGpz8H0BJSrQ"
      },
      "source": [
        "## Dataset: [hotel_reservations](https://www.kaggle.com/datasets/ahsan81/hotel-reservations-classification-dataset)"
      ]
    },
    {
      "cell_type": "markdown",
      "metadata": {
        "id": "noOBs2n-b1LX"
      },
      "source": [
        "# Processamento de Dados e Análise Exploratória de Dados"
      ]
    },
    {
      "cell_type": "markdown",
      "metadata": {
        "id": "sdYOAAjgcoPh"
      },
      "source": [
        "### Imports e instalações necessárias"
      ]
    },
    {
      "cell_type": "code",
      "execution_count": 10,
      "metadata": {
        "colab": {
          "base_uri": "https://localhost:8080/"
        },
        "id": "p2MYBZiccnQY",
        "outputId": "b3a1d9f1-85e4-4bc4-a4ac-a18919e83e39"
      },
      "outputs": [
        {
          "name": "stdout",
          "output_type": "stream",
          "text": [
            "Requirement already satisfied: pandas in c:\\users\\peter\\appdata\\local\\programs\\python\\python312\\lib\\site-packages (2.1.2)\n",
            "Requirement already satisfied: boto3 in c:\\users\\peter\\appdata\\local\\programs\\python\\python312\\lib\\site-packages (1.34.109)\n",
            "Requirement already satisfied: joblib in c:\\users\\peter\\appdata\\local\\programs\\python\\python312\\lib\\site-packages (1.3.2)\n",
            "Requirement already satisfied: scikit-learn in c:\\users\\peter\\appdata\\local\\programs\\python\\python312\\lib\\site-packages (1.3.2)\n",
            "Requirement already satisfied: sagemaker in c:\\users\\peter\\appdata\\local\\programs\\python\\python312\\lib\\site-packages (2.221.0)\n",
            "Requirement already satisfied: seaborn in c:\\users\\peter\\appdata\\local\\programs\\python\\python312\\lib\\site-packages (0.13.2)\n",
            "Requirement already satisfied: numpy<2,>=1.26.0 in c:\\users\\peter\\appdata\\local\\programs\\python\\python312\\lib\\site-packages (from pandas) (1.26.1)\n",
            "Requirement already satisfied: python-dateutil>=2.8.2 in c:\\users\\peter\\appdata\\roaming\\python\\python312\\site-packages (from pandas) (2.8.2)\n",
            "Requirement already satisfied: pytz>=2020.1 in c:\\users\\peter\\appdata\\local\\programs\\python\\python312\\lib\\site-packages (from pandas) (2023.3.post1)\n",
            "Requirement already satisfied: tzdata>=2022.1 in c:\\users\\peter\\appdata\\local\\programs\\python\\python312\\lib\\site-packages (from pandas) (2023.3)\n",
            "Requirement already satisfied: botocore<1.35.0,>=1.34.109 in c:\\users\\peter\\appdata\\local\\programs\\python\\python312\\lib\\site-packages (from boto3) (1.34.109)\n",
            "Requirement already satisfied: jmespath<2.0.0,>=0.7.1 in c:\\users\\peter\\appdata\\local\\programs\\python\\python312\\lib\\site-packages (from boto3) (1.0.1)\n",
            "Requirement already satisfied: s3transfer<0.11.0,>=0.10.0 in c:\\users\\peter\\appdata\\local\\programs\\python\\python312\\lib\\site-packages (from boto3) (0.10.1)\n",
            "Requirement already satisfied: scipy>=1.5.0 in c:\\users\\peter\\appdata\\local\\programs\\python\\python312\\lib\\site-packages (from scikit-learn) (1.11.3)\n",
            "Requirement already satisfied: threadpoolctl>=2.0.0 in c:\\users\\peter\\appdata\\local\\programs\\python\\python312\\lib\\site-packages (from scikit-learn) (3.2.0)\n",
            "Requirement already satisfied: attrs<24,>=23.1.0 in c:\\users\\peter\\appdata\\local\\programs\\python\\python312\\lib\\site-packages (from sagemaker) (23.1.0)\n",
            "Requirement already satisfied: cloudpickle==2.2.1 in c:\\users\\peter\\appdata\\local\\programs\\python\\python312\\lib\\site-packages (from sagemaker) (2.2.1)\n",
            "Requirement already satisfied: google-pasta in c:\\users\\peter\\appdata\\local\\programs\\python\\python312\\lib\\site-packages (from sagemaker) (0.2.0)\n",
            "Requirement already satisfied: protobuf<5.0,>=3.12 in c:\\users\\peter\\appdata\\local\\programs\\python\\python312\\lib\\site-packages (from sagemaker) (4.25.3)\n",
            "Requirement already satisfied: smdebug-rulesconfig==1.0.1 in c:\\users\\peter\\appdata\\local\\programs\\python\\python312\\lib\\site-packages (from sagemaker) (1.0.1)\n",
            "Requirement already satisfied: importlib-metadata<7.0,>=1.4.0 in c:\\users\\peter\\appdata\\local\\programs\\python\\python312\\lib\\site-packages (from sagemaker) (6.11.0)\n",
            "Requirement already satisfied: packaging>=20.0 in c:\\users\\peter\\appdata\\roaming\\python\\python312\\site-packages (from sagemaker) (23.2)\n",
            "Requirement already satisfied: pathos in c:\\users\\peter\\appdata\\local\\programs\\python\\python312\\lib\\site-packages (from sagemaker) (0.3.2)\n",
            "Requirement already satisfied: schema in c:\\users\\peter\\appdata\\local\\programs\\python\\python312\\lib\\site-packages (from sagemaker) (0.7.7)\n",
            "Requirement already satisfied: PyYAML~=6.0 in c:\\users\\peter\\appdata\\local\\programs\\python\\python312\\lib\\site-packages (from sagemaker) (6.0.1)\n",
            "Requirement already satisfied: jsonschema in c:\\users\\peter\\appdata\\local\\programs\\python\\python312\\lib\\site-packages (from sagemaker) (4.19.2)\n",
            "Requirement already satisfied: platformdirs in c:\\users\\peter\\appdata\\roaming\\python\\python312\\site-packages (from sagemaker) (3.11.0)\n",
            "Requirement already satisfied: tblib<4,>=1.7.0 in c:\\users\\peter\\appdata\\local\\programs\\python\\python312\\lib\\site-packages (from sagemaker) (3.0.0)\n",
            "Requirement already satisfied: urllib3<3.0.0,>=1.26.8 in c:\\users\\peter\\appdata\\local\\programs\\python\\python312\\lib\\site-packages (from sagemaker) (2.0.7)\n",
            "Requirement already satisfied: requests in c:\\users\\peter\\appdata\\local\\programs\\python\\python312\\lib\\site-packages (from sagemaker) (2.31.0)\n",
            "Requirement already satisfied: docker in c:\\users\\peter\\appdata\\local\\programs\\python\\python312\\lib\\site-packages (from sagemaker) (7.0.0)\n",
            "Requirement already satisfied: tqdm in c:\\users\\peter\\appdata\\local\\programs\\python\\python312\\lib\\site-packages (from sagemaker) (4.66.1)\n",
            "Requirement already satisfied: psutil in c:\\users\\peter\\appdata\\roaming\\python\\python312\\site-packages (from sagemaker) (5.9.6)\n",
            "Requirement already satisfied: matplotlib!=3.6.1,>=3.4 in c:\\users\\peter\\appdata\\local\\programs\\python\\python312\\lib\\site-packages (from seaborn) (3.8.0)\n",
            "Requirement already satisfied: zipp>=0.5 in c:\\users\\peter\\appdata\\local\\programs\\python\\python312\\lib\\site-packages (from importlib-metadata<7.0,>=1.4.0->sagemaker) (3.18.2)\n",
            "Requirement already satisfied: contourpy>=1.0.1 in c:\\users\\peter\\appdata\\local\\programs\\python\\python312\\lib\\site-packages (from matplotlib!=3.6.1,>=3.4->seaborn) (1.1.1)\n",
            "Requirement already satisfied: cycler>=0.10 in c:\\users\\peter\\appdata\\local\\programs\\python\\python312\\lib\\site-packages (from matplotlib!=3.6.1,>=3.4->seaborn) (0.12.1)\n",
            "Requirement already satisfied: fonttools>=4.22.0 in c:\\users\\peter\\appdata\\local\\programs\\python\\python312\\lib\\site-packages (from matplotlib!=3.6.1,>=3.4->seaborn) (4.43.1)\n",
            "Requirement already satisfied: kiwisolver>=1.0.1 in c:\\users\\peter\\appdata\\local\\programs\\python\\python312\\lib\\site-packages (from matplotlib!=3.6.1,>=3.4->seaborn) (1.4.5)\n",
            "Requirement already satisfied: pillow>=6.2.0 in c:\\users\\peter\\appdata\\local\\programs\\python\\python312\\lib\\site-packages (from matplotlib!=3.6.1,>=3.4->seaborn) (10.1.0)\n",
            "Requirement already satisfied: pyparsing>=2.3.1 in c:\\users\\peter\\appdata\\local\\programs\\python\\python312\\lib\\site-packages (from matplotlib!=3.6.1,>=3.4->seaborn) (3.1.1)\n",
            "Requirement already satisfied: six>=1.5 in c:\\users\\peter\\appdata\\roaming\\python\\python312\\site-packages (from python-dateutil>=2.8.2->pandas) (1.16.0)\n",
            "Requirement already satisfied: pywin32>=304 in c:\\users\\peter\\appdata\\roaming\\python\\python312\\site-packages (from docker->sagemaker) (306)\n",
            "Requirement already satisfied: charset-normalizer<4,>=2 in c:\\users\\peter\\appdata\\local\\programs\\python\\python312\\lib\\site-packages (from requests->sagemaker) (3.3.2)\n",
            "Requirement already satisfied: idna<4,>=2.5 in c:\\users\\peter\\appdata\\local\\programs\\python\\python312\\lib\\site-packages (from requests->sagemaker) (3.4)\n",
            "Requirement already satisfied: certifi>=2017.4.17 in c:\\users\\peter\\appdata\\local\\programs\\python\\python312\\lib\\site-packages (from requests->sagemaker) (2023.7.22)\n",
            "Requirement already satisfied: jsonschema-specifications>=2023.03.6 in c:\\users\\peter\\appdata\\local\\programs\\python\\python312\\lib\\site-packages (from jsonschema->sagemaker) (2023.7.1)\n",
            "Requirement already satisfied: referencing>=0.28.4 in c:\\users\\peter\\appdata\\local\\programs\\python\\python312\\lib\\site-packages (from jsonschema->sagemaker) (0.30.2)\n",
            "Requirement already satisfied: rpds-py>=0.7.1 in c:\\users\\peter\\appdata\\local\\programs\\python\\python312\\lib\\site-packages (from jsonschema->sagemaker) (0.10.6)\n",
            "Requirement already satisfied: ppft>=1.7.6.8 in c:\\users\\peter\\appdata\\local\\programs\\python\\python312\\lib\\site-packages (from pathos->sagemaker) (1.7.6.8)\n",
            "Requirement already satisfied: dill>=0.3.8 in c:\\users\\peter\\appdata\\local\\programs\\python\\python312\\lib\\site-packages (from pathos->sagemaker) (0.3.8)\n",
            "Requirement already satisfied: pox>=0.3.4 in c:\\users\\peter\\appdata\\local\\programs\\python\\python312\\lib\\site-packages (from pathos->sagemaker) (0.3.4)\n",
            "Requirement already satisfied: multiprocess>=0.70.16 in c:\\users\\peter\\appdata\\local\\programs\\python\\python312\\lib\\site-packages (from pathos->sagemaker) (0.70.16)\n",
            "Requirement already satisfied: colorama in c:\\users\\peter\\appdata\\roaming\\python\\python312\\site-packages (from tqdm->sagemaker) (0.4.6)\n",
            "Note: you may need to restart the kernel to use updated packages.\n"
          ]
        }
      ],
      "source": [
        "# Instalar as bibliotecas necessárias para o projeto\n",
        "%pip install pandas boto3 joblib scikit-learn sagemaker seaborn\n",
        "\n",
        "# Importar as bibliotecas necessárias \n",
        "import json\n",
        "import boto3\n",
        "import numpy as np\n",
        "import pandas as pd\n",
        "import seaborn as sns\n",
        "import matplotlib.pyplot as plt\n",
        "from sklearn.preprocessing import StandardScaler\n",
        "from botocore.exceptions import NoCredentialsError, PartialCredentialsError"
      ]
    },
    {
      "cell_type": "markdown",
      "metadata": {
        "id": "nbIaWXnHdLX9"
      },
      "source": [
        "### Configurações gerais do projeto e variáveis globais"
      ]
    },
    {
      "cell_type": "code",
      "execution_count": 11,
      "metadata": {
        "id": "PsiQMNuzc8NO"
      },
      "outputs": [],
      "source": [
        "# Carregar configurações do arquivo JSON\n",
        "with open('config.json', 'r') as config_file:\n",
        "    config = json.load(config_file)\n",
        "\n",
        "# Atribuir as variáveis de configuração\n",
        "bucket_name = config['bucket_name']\n",
        "table_name = config['table_name']\n",
        "model_metrics_table = config['model_metrics_table']\n",
        "role_name = config['role_name']\n",
        "dataset_path = config['dataset_path']\n",
        "processed_dataset_path = config['processed_dataset_path']\n",
        "model_path = config['model_path']\n",
        "profile_name = config['profile_name']\n",
        "aws_region = config['aws_region']\n",
        "\n",
        "# Inicialização da sessão AWS\n",
        "session = boto3.Session(profile_name=profile_name, region_name=aws_region)\n",
        "s3_client = session.client('s3')\n",
        "dynamodb_client = session.client('dynamodb')\n",
        "iam_client = session.client('iam')"
      ]
    },
    {
      "cell_type": "markdown",
      "metadata": {},
      "source": [
        "### Pré-processamento dos dados (verificação de valores nulos, tratamento de variáveis categóricas)\n",
        "\n",
        "Com relação ao pré-processamento dos dados, foram realizadas as seguintes etapas:\n",
        "\n",
        "- **Normalização e Padrionização:** etapa que visa normalizar e padronizar os dados, a fim de evitar que variáveis com escalas diferentes possam influenciar o modelo de forma desproporcional. Para isso, utilizamos a função `StandardScaler` do pacote `sklearn.preprocessing`.\n",
        "\n",
        "*Kuhn, M., & Johnson, K. (2013). Applied Predictive Modeling. Springer. Chapter on Data Preprocessing.*\n",
        "\n",
        "- **Tratamento de Valores Ausentes:** etapa que visa tratar valores ausentes, que podem prejudicar o modelo. \n",
        "\n",
        "*Little, R. J., & Rubin, D. B. (2019). Statistical Analysis with Missing Data. Wiley. Missing Data Handling Techniques.*\n",
        "\n",
        "- **Remoção de Outliers:** etapa que visa remover outliers, que podem prejudicar o modelo devido a sua influência desproporcional.\n",
        "\n",
        "*Aggarwal, C. C. (2015). Outlier Analysis. Springer. Techniques for Outlier Detection and Treatment.*\n",
        "\n",
        "- **Feature Engineering:** etapa que visa criar novas variáveis a partir das variáveis originais, a fim de melhorar o desempenho do modelo.\n",
        "\n",
        "*Zheng, A., & Casari, A. (2018). Feature Engineering for Machine Learning: Principles and Techniques for Data Scientists. O'Reilly Media. Importance of Feature Engineering.*\n"
      ]
    },
    {
      "cell_type": "code",
      "execution_count": null,
      "metadata": {},
      "outputs": [
        {
          "name": "stderr",
          "output_type": "stream",
          "text": [
            "<>:17: SyntaxWarning: invalid escape sequence '\\d'\n",
            "<>:17: SyntaxWarning: invalid escape sequence '\\d'\n",
            "C:\\Users\\peter\\AppData\\Local\\Temp\\ipykernel_8200\\3888047351.py:17: SyntaxWarning: invalid escape sequence '\\d'\n",
            "  self.dataset['Booking_ID'] = self.dataset['Booking_ID'].str.extract('(\\d+)', expand=False).astype(float)\n"
          ]
        },
        {
          "name": "stdout",
          "output_type": "stream",
          "text": [
            "Credenciais configuradas corretamente. Buckets disponíveis:\n",
            "  hotel-reservations-bucket-test\n",
            "  hotel-reservations-bucket-test2\n",
            "  hotel-reservations-bucket-test3\n",
            "  modelbuckettest-compass-sprint4-5\n",
            "  sagemaker-studio-381491839981-1ckrmnc4h8i\n",
            "  sagemaker-studio-381491839981-46ozrms19x4\n",
            "  sagemaker-studio-381491839981-6fc7cnmbqei\n",
            "  sagemaker-studio-381491839981-7lmdzvgunt3\n",
            "  sagemaker-studio-381491839981-bbjioi54pya\n",
            "  sagemaker-studio-381491839981-gyom2iijcpa\n",
            "  sagemaker-studio-381491839981-jadoe9fgwu\n",
            "  sagemaker-studio-381491839981-p3c2dxmgle\n",
            "  sagemaker-us-east-1-381491839981\n",
            "  testing-sagemaker-train\n"
          ]
        }
      ],
      "source": [
        "# Pré-processamento de Dados\n",
        "class DataPreprocessor:\n",
        "    def __init__(self, dataset_path, processed_dataset_path):\n",
        "        self.dataset_path = dataset_path\n",
        "        self.processed_dataset_path = processed_dataset_path\n",
        "\n",
        "    def load_data(self):\n",
        "        self.dataset = pd.read_csv(self.dataset_path)\n",
        "\n",
        "    def preprocess_data(self):\n",
        "        # Convertendo as colunas categóricas em numéricas\n",
        "        self.dataset = pd.get_dummies(self.dataset, columns=['type_of_meal_plan', 'room_type_reserved', 'market_segment_type', 'booking_status'])\n",
        "\n",
        "        # Deixando o Booking_ID com valores numéricos (removendo o INN)\n",
        "        self.dataset['Booking_ID'] = self.dataset['Booking_ID'].str.extract('(\\d+)', expand=False).astype(float)\n",
        "\n",
        "        # Criar a nova coluna label_avg_price_per_room\n",
        "        self.dataset['label_avg_price_per_room'] = pd.cut(self.dataset['avg_price_per_room'], bins=[0, 85, 115, float('inf')], labels=[1, 2, 3])\n",
        "\n",
        "        # Excluir a coluna avg_price_per_room\n",
        "        self.dataset.drop(columns=['avg_price_per_room'], inplace=True)\n",
        "\n",
        "        # Remover linhas com valores ausentes\n",
        "        self.dataset.dropna(inplace=True)\n",
        "\n",
        "        # Remoção de outliers\n",
        "        numerical_cols = self.dataset.select_dtypes(include=['float64', 'int64']).columns\n",
        "\n",
        "        # Calcular os quantis e IQR\n",
        "        Q1 = self.dataset[numerical_cols].quantile(0.25)\n",
        "        Q3 = self.dataset[numerical_cols].quantile(0.75)\n",
        "        IQR = Q3 - Q1\n",
        "\n",
        "        # Filtrar outliers baseando-se no IQR\n",
        "        self.dataset = self.dataset[~((self.dataset[numerical_cols] < (Q1 - 1.5 * IQR)) | (self.dataset[numerical_cols] > (Q3 + 1.5 * IQR))).any(axis=1)]\n",
        "\n",
        "        # Normalização/Padrionização das features numéricas\n",
        "        scaler = StandardScaler()\n",
        "        self.dataset[numerical_cols] = scaler.fit_transform(self.dataset[numerical_cols])\n",
        "\n",
        "        # Criação de novas features (feature engineering)\n",
        "        self.dataset['total_guests'] = self.dataset['no_of_adults'] + self.dataset['no_of_children'] + self.dataset['no_of_weekend_nights'] + self.dataset['no_of_week_nights']\n",
        "        self.dataset['total_nights'] = self.dataset['no_of_weekend_nights'] + self.dataset['no_of_week_nights']\n",
        "\n",
        "        # Salvando o dataset preprocessado\n",
        "        self.dataset.to_csv(self.processed_dataset_path, index=False)\n",
        "\n",
        "# Executar o pré-processamento de dados\n",
        "preprocessor = DataPreprocessor(dataset_path, processed_dataset_path)\n",
        "preprocessor.load_data()\n",
        "preprocessor.preprocess_data()"
      ]
    },
    {
      "cell_type": "markdown",
      "metadata": {},
      "source": [
        "### Upload do dataset para o AWS DynamoDB na tabela configurada"
      ]
    },
    {
      "cell_type": "code",
      "execution_count": null,
      "metadata": {},
      "outputs": [],
      "source": [
        "# Classe para upload do Dataset pré-processado para o DynamoDB\n",
        "class DynamoDBUploader:\n",
        "    # Inicialização da classe com os parâmetros necessários\n",
        "    def __init__(self, processed_dataset_path, table_name, profile_name, aws_region):\n",
        "        self.processed_dataset_path = processed_dataset_path\n",
        "        self.table_name = table_name\n",
        "        self.profile_name = profile_name\n",
        "        self.aws_region = aws_region\n",
        "        self.dataset = pd.read_csv(self.processed_dataset_path)\n",
        "    # Função para fazer o upload dos dados para o DynamoDB\n",
        "    def upload_to_dynamodb(self):\n",
        "        session = boto3.Session(profile_name=self.profile_name, region_name=self.aws_region)\n",
        "        dynamodb = session.resource('dynamodb')\n",
        "        table = dynamodb.Table(self.table_name)\n",
        "        with table.batch_writer() as batch:\n",
        "            for index, row in self.dataset.iterrows():\n",
        "                item = {\n",
        "                    'Booking_ID': str(row['Booking_ID'])\n",
        "                }\n",
        "                for key, value in row.items():\n",
        "                    if key != 'Booking_ID':\n",
        "                        item[key] = value if not pd.isna(value) else None\n",
        "                batch.put_item(Item=item)\n",
        "\n",
        "    # Verificar as credenciais AWS configuradas verificando se é possível listar os buckets S3\n",
        "    def check_aws_credentials(self):\n",
        "        try:\n",
        "            session = boto3.Session(profile_name=self.profile_name)\n",
        "            s3 = session.client('s3')\n",
        "            response = s3.list_buckets()\n",
        "            print('Credenciais configuradas corretamente. Buckets disponíveis:')\n",
        "            for bucket in response['Buckets']:\n",
        "                print(f'  {bucket[\"Name\"]}')\n",
        "        except NoCredentialsError:\n",
        "            print('Credenciais não encontradas. Configure suas credenciais AWS.')\n",
        "        except PartialCredentialsError:\n",
        "            print('Credenciais incompletas. Verifique suas credenciais AWS.')\n",
        "        except Exception as e:\n",
        "            print(f'Erro ao verificar as credenciais: {e}')\n",
        "\n",
        "\n",
        "# Chamada dos métodos da classe para realizar o upload dos dados para o DynamoDB\n",
        "uploader = DynamoDBUploader(processed_dataset_path, table_name, profile_name, aws_region)\n",
        "uploader.check_aws_credentials()\n",
        "uploader.upload_to_dynamodb()"
      ]
    }
  ],
  "metadata": {
    "colab": {
      "provenance": []
    },
    "kernelspec": {
      "display_name": "Python 3",
      "name": "python3"
    },
    "language_info": {
      "codemirror_mode": {
        "name": "ipython",
        "version": 3
      },
      "file_extension": ".py",
      "mimetype": "text/x-python",
      "name": "python",
      "nbconvert_exporter": "python",
      "pygments_lexer": "ipython3",
      "version": "3.12.1"
    }
  },
  "nbformat": 4,
  "nbformat_minor": 0
}
